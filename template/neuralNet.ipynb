{
 "cells": [
  {
   "cell_type": "code",
   "execution_count": 1,
   "metadata": {
    "collapsed": true
   },
   "outputs": [],
   "source": [
    "import numpy\n",
    "import scipy.special"
   ]
  },
  {
   "cell_type": "code",
   "execution_count": 3,
   "metadata": {
    "collapsed": true
   },
   "outputs": [],
   "source": [
    "class NeuralNet:\n",
    "    \n",
    "    def __init__(self,inNode,hdNode,opNode,learningRate):\n",
    "        self.inNode = inNode\n",
    "        self.hdNode = hdNode\n",
    "        self.opNode = opNode\n",
    "        \n",
    "        self.wih = numpy.random.normal(0.0,pow(self.inNode,-0.5),(self.hdNode,self.inNode))\n",
    "        self.who = numpy.random.normal(0.0,pow(self.hdNode,-0.5),(self.opNode,self.hdNode))\n",
    "        \n",
    "        self.learningRate = learningRate\n",
    "        \n",
    "        self.activation = lambda x: scipy.special.expit(x)\n",
    "        \n",
    "        pass\n",
    "    \n",
    "    \n",
    "    def train(self,inputList,targetList):\n",
    "        \n",
    "        inputs = numpy.array(inputList,ndmin=2).T\n",
    "        target = numpy.array(targetList,ndmin=2).T\n",
    "        \n",
    "        hiddenIp = numpy.dot(self.wih,inputs)\n",
    "        \n",
    "        hiddenOp = self.activation(hiddenIp)\n",
    "        \n",
    "        output = numpy.dot(self.who,hiddenOp)\n",
    "        \n",
    "        final_output = self.activation(output)\n",
    "        \n",
    "        output_error = target - final_output\n",
    "        \n",
    "        hidden_error = numpy.dot(self.who.T,output_error)\n",
    "        \n",
    "        self.who += self.learningRate * numpy.dot((output_error*final_output* \\\n",
    "                                                   (1 - final_output)),numpy.transpose(hiddenOp))\n",
    "        \n",
    "        self.wih += self.learningRate * numpy.dot((hidden_error*hiddenOp* \\\n",
    "                            (1 - hiddenOp)*final_output*(1 - final_output)),numpy.transpose(inputs))\n",
    "        \n",
    "        pass\n",
    "    \n",
    "    def query(self,inputList):\n",
    "        \n",
    "        inputs = numpy.array(inputList,ndmin=2).T\n",
    "        \n",
    "        hiddenin = numpy.dot(self.wih,inputs)\n",
    "        \n",
    "        hiddenop = self.activation(hiddenin)\n",
    "        \n",
    "        outputin = numpy.dot(self.who,hiddenop)\n",
    "        \n",
    "        output = self.activation(outputin)\n",
    "        \n",
    "        return output\n",
    "    \n",
    "        \n",
    "        \n",
    "        "
   ]
  },
  {
   "cell_type": "code",
   "execution_count": null,
   "metadata": {
    "collapsed": true
   },
   "outputs": [],
   "source": [
    "nn = NeuralNet(2,40,1,0.01)\n",
    "\n",
    "inputs = [[0,0],[1,0],[0,1],[1,1]]\n",
    "outputs = [0,1,1,0]\n",
    "\n",
    "for _ in range(100000):\n",
    "    \n",
    "    for idx,inp in enumerate(inputs):\n",
    "        targets = numpy.zeros(2) + 0.01\n",
    "        #print(idx,inp)\n",
    "        targets = outputs[idx] * 0.99\n",
    "        #targets[1] = outputs[idx] * 0.99\n",
    "        #print(targets)\n",
    "        #print(\"\\n\")\n",
    "        nn.train(inp,targets)\n",
    "        pass\n",
    "    pass\n",
    "\n",
    "    "
   ]
  },
  {
   "cell_type": "code",
   "execution_count": null,
   "metadata": {},
   "outputs": [],
   "source": [
    "result = nn.query([1,1])\n",
    "\n",
    "index = numpy.argmax(result)\n",
    "print(result)"
   ]
  },
  {
   "cell_type": "code",
   "execution_count": null,
   "metadata": {
    "collapsed": true
   },
   "outputs": [],
   "source": []
  }
 ],
 "metadata": {
  "kernelspec": {
   "display_name": "Python 3",
   "language": "python",
   "name": "python3"
  },
  "language_info": {
   "codemirror_mode": {
    "name": "ipython",
    "version": 3
   },
   "file_extension": ".py",
   "mimetype": "text/x-python",
   "name": "python",
   "nbconvert_exporter": "python",
   "pygments_lexer": "ipython3",
   "version": "3.6.1"
  }
 },
 "nbformat": 4,
 "nbformat_minor": 2
}
