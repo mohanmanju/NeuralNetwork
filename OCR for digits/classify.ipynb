{
 "cells": [
  {
   "cell_type": "code",
   "execution_count": null,
   "metadata": {},
   "outputs": [],
   "source": [
    "# to import other jupyter notebook\n",
    "import nbimporter\n",
    "#for math operation\n",
    "import numpy\n",
    "#to read and plot images\n",
    "import matplotlib.pyplot as plt\n",
    "import matplotlib.image as mpimg\n",
    "#neural network\n",
    "#from neuralNet import NeuralNet\n",
    "\n",
    "import numpy\n",
    "import scipy.special"
   ]
  },
  {
   "cell_type": "code",
   "execution_count": null,
   "metadata": {
    "collapsed": true
   },
   "outputs": [],
   "source": [
    "class NeuralNet:\n",
    "    \n",
    "    def __init__(self,inNode,hdNode,opNode,learningRate):\n",
    "        self.inNode = inNode\n",
    "        self.hdNode = hdNode\n",
    "        self.opNode = opNode\n",
    "        \n",
    "        self.wih = numpy.random.normal(0.0,pow(self.inNode,-0.5),(self.hdNode,self.inNode))\n",
    "        self.who = numpy.random.normal(0.0,pow(self.hdNode,-0.5),(self.opNode,self.hdNode))\n",
    "        \n",
    "        self.learningRate = learningRate\n",
    "        \n",
    "        self.activation = lambda x: scipy.special.expit(x)\n",
    "        \n",
    "        pass\n",
    "    \n",
    "    \n",
    "    def train(self,inputList,targetList):\n",
    "        \n",
    "        inputs = numpy.array(inputList,ndmin=2).T\n",
    "        target = numpy.array(targetList,ndmin=2).T\n",
    "        \n",
    "        hiddenIp = numpy.dot(self.wih,inputs)\n",
    "        \n",
    "        hiddenOp = self.activation(hiddenIp)\n",
    "        \n",
    "        output = numpy.dot(self.who,hiddenOp)\n",
    "        \n",
    "        final_output = self.activation(output)\n",
    "        \n",
    "        output_error = target - final_output\n",
    "        \n",
    "        hidden_error = numpy.dot(self.who.T,output_error)\n",
    "        \n",
    "        self.who += self.learningRate * numpy.dot((output_error*final_output*(1 - final_output)),numpy.transpose(hiddenOp))\n",
    "        \n",
    "        self.wih += self.learningRate * numpy.dot((hidden_error*hiddenOp* (1 - hiddenOp)),numpy.transpose(inputs))\n",
    "        \n",
    "        pass\n",
    "    \n",
    "    def query(self,inputList):\n",
    "        \n",
    "        inputs = numpy.array(inputList,ndmin=2).T\n",
    "        \n",
    "        hiddenin = numpy.dot(self.wih,inputs)\n",
    "        \n",
    "        hiddenop = self.activation(hiddenin)\n",
    "        \n",
    "        outputin = numpy.dot(self.who,hiddenop)\n",
    "        \n",
    "        output = self.activation(outputin)\n",
    "        \n",
    "        return output\n",
    "    \n",
    "        "
   ]
  },
  {
   "cell_type": "code",
   "execution_count": null,
   "metadata": {},
   "outputs": [],
   "source": [
    "nn = NeuralNet(784,200,10,0.1)"
   ]
  },
  {
   "cell_type": "code",
   "execution_count": null,
   "metadata": {},
   "outputs": [],
   "source": [
    "\n",
    "for i in range(50):\n",
    "    with open(\"/dataset/minist/training\") as train:\n",
    "        for image in train:\n",
    "            tar = int(image.split(\".\")[0])\n",
    "            targets = numpy.zeros(10) + 0.01\n",
    "            target[tar] = 0.99\n",
    "            #print(target)\n",
    "            #print(tar)\n",
    "            dat = image.split(\".\")[1].split(\",\")\n",
    "            dat = list(map(int, dat))\n",
    "            #print(dat)\n",
    "            nn.train(dat,target)\n",
    "        \n",
    "            pass\n",
    "        pass\n",
    "    print(i)\n",
    "\n",
    "    \n"
   ]
  },
  {
   "cell_type": "code",
   "execution_count": null,
   "metadata": {},
   "outputs": [],
   "source": [
    "#print(nn.wih)\n",
    "#print(nn.who)"
   ]
  },
  {
   "cell_type": "code",
   "execution_count": null,
   "metadata": {},
   "outputs": [],
   "source": [
    "output = []\n",
    "with open(\"/dataset/minist/testing\") as test:\n",
    "    for image in test:\n",
    "        tar = int(image.split(\".\")[0])\n",
    "       \n",
    "        print(str(tar)+\"=>\",end='')\n",
    "       \n",
    "        dat = image.split(\".\")[1].split(\",\")\n",
    "        dat = list(map(int, dat))\n",
    "        \n",
    "        output = nn.query(dat)\n",
    "        index = numpy.argmax(output)\n",
    "        print(index)\n",
    "        pass\n",
    "    pass\n",
    "#print(output)\n"
   ]
  },
  {
   "cell_type": "code",
   "execution_count": null,
   "metadata": {
    "collapsed": true
   },
   "outputs": [],
   "source": []
  }
 ],
 "metadata": {
  "kernelspec": {
   "display_name": "Python 3",
   "language": "python",
   "name": "python3"
  },
  "language_info": {
   "codemirror_mode": {
    "name": "ipython",
    "version": 3
   },
   "file_extension": ".py",
   "mimetype": "text/x-python",
   "name": "python",
   "nbconvert_exporter": "python",
   "pygments_lexer": "ipython3",
   "version": "3.6.1"
  }
 },
 "nbformat": 4,
 "nbformat_minor": 2
}
