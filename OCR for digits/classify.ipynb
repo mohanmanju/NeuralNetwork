{
 "cells": [
  {
   "cell_type": "code",
   "execution_count": null,
   "metadata": {
    "collapsed": true
   },
   "outputs": [],
   "source": [
    "# to import other jupyter notebook\n",
    "import nbimporter\n",
    "#for math operation\n",
    "import numpy\n",
    "#to read and plot images\n",
    "import matplotlib.pyplot as plt\n",
    "import matplotlib.image as mpimg\n",
    "#neural network\n",
    "#from neuralNet import NeuralNet\n",
    "\n",
    "import numpy\n",
    "import scipy.special"
   ]
  },
  {
   "cell_type": "code",
   "execution_count": null,
   "metadata": {
    "collapsed": true
   },
   "outputs": [],
   "source": [
    "nn = NeuralNet(784,200,10,0.1)"
   ]
  },
  {
   "cell_type": "code",
   "execution_count": null,
   "metadata": {},
   "outputs": [],
   "source": [
    "\n",
    "for i in range(1):\n",
    "    count = 0\n",
    "    with open(\"/home/raghu/Desktop/mohan/Plearn/implementation/training\") as train:\n",
    "        for image in train:\n",
    "            tar = int(image.split(\".\")[0])\n",
    "            targets = numpy.zeros(10) + 0.01\n",
    "            targets[tar] = 0.99\n",
    "            dat = image.split(\".\")[1].split(\",\")\n",
    "            dat = list(map(int, dat))\n",
    "            #print(dat)\n",
    "            nn.train(dat,targets)\n",
    "            count +=1\n",
    "            if(count%15000==0):\n",
    "                print(count)\n",
    "        \n",
    "            pass\n",
    "        pass\n",
    "    \n",
    "\n",
    "    \n"
   ]
  },
  {
   "cell_type": "code",
   "execution_count": null,
   "metadata": {},
   "outputs": [],
   "source": [
    "wone = open(\"wih\",\"w\")\n",
    "print(\"wt = \",(nn.wih).tolist())\n",
    "for weight in wt:\n",
    "    wone.write(str(list(weight.tolist()))+'\\n')\n",
    "wone.close()\n",
    "\n",
    "wone = open(\"who\",\"w\")\n",
    "print(\"wt = \",(nn.who).tolist())\n",
    "for weight in wt:\n",
    "    wone.write(str(list(weight.tolist()))+'\\n')\n",
    "wone.close()"
   ]
  },
  {
   "cell_type": "code",
   "execution_count": null,
   "metadata": {},
   "outputs": [],
   "source": [
    "output = []\n",
    "with open(\"/home/raghu/Desktop/mohan/Plearn/implementation/testing\") as test:\n",
    "    for image in test:\n",
    "        tar = int(image.split(\".\")[0])\n",
    "       \n",
    "        print(str(tar)+\"=>\",end='')\n",
    "       \n",
    "        dat = image.split(\".\")[1].split(\",\")\n",
    "        dat = list(map(int, dat))\n",
    "        \n",
    "        output = nn.query(dat)\n",
    "        index = numpy.argmax(output)\n",
    "        print(index)\n",
    "        pass\n",
    "    pass\n",
    "#print(output)\n"
   ]
  }
 ],
 "metadata": {
  "kernelspec": {
   "display_name": "Python 3",
   "language": "python",
   "name": "python3"
  },
  "language_info": {
   "codemirror_mode": {
    "name": "ipython",
    "version": 3
   },
   "file_extension": ".py",
   "mimetype": "text/x-python",
   "name": "python",
   "nbconvert_exporter": "python",
   "pygments_lexer": "ipython3",
   "version": "3.6.1"
  }
 },
 "nbformat": 4,
 "nbformat_minor": 2
}
