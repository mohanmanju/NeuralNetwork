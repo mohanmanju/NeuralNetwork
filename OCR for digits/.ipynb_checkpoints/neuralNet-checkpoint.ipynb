{
 "cells": [
  {
   "cell_type": "code",
   "execution_count": 1,
   "metadata": {
    "collapsed": true
   },
   "outputs": [],
   "source": [
    "import numpy\n",
    "import scipy.special"
   ]
  },
  {
   "cell_type": "code",
   "execution_count": 2,
   "metadata": {
    "collapsed": true
   },
   "outputs": [],
   "source": [
    "\n",
    "class NeuralNet:\n",
    "    \n",
    "    def __init__(self,inNode,hdNode,opNode,learningRate):\n",
    "        self.inNode = inNode\n",
    "        self.hdNode = hdNode\n",
    "        self.opNode = opNode\n",
    "        \n",
    "        self.wih = numpy.random.normal(0.0,pow(self.inNode,-0.5),(self.hdNode,self.inNode))\n",
    "        self.who = numpy.random.normal(0.0,pow(self.hdNode,-0.5),(self.opNode,self.hdNode))\n",
    "        \n",
    "        self.learningRate = learningRate\n",
    "        \n",
    "        self.activation = lambda x: scipy.special.expit(x)\n",
    "        \n",
    "        pass\n",
    "    \n",
    "    \n",
    "    def train(self,inputList,targetList):\n",
    "        \n",
    "        inputs = numpy.array(inputList,ndmin=2).T\n",
    "        target = numpy.array(targetList,ndmin=2).T\n",
    "        \n",
    "        hiddenIp = numpy.dot(self.wih,inputs)\n",
    "        \n",
    "        hiddenOp = self.activation(hiddenIp)\n",
    "        \n",
    "        output = numpy.dot(self.who,hiddenOp)\n",
    "        \n",
    "        final_output = self.activation(output)\n",
    "        \n",
    "        \n",
    "        output_error = target - final_output\n",
    "        \n",
    "        \n",
    "        \n",
    "        if(count%7500==0):\n",
    "               print(\"Error:\" + str(numpy.mean(numpy.abs(output_error))))\n",
    "    \n",
    "        \n",
    "        output_delta = output_error*final_output*(1-final_output)\n",
    "\n",
    "        \n",
    "        hidden_error = numpy.dot(numpy.transpose(self.who),output_delta)\n",
    "\n",
    "    \n",
    "        hidden_delta = hidden_error*hiddenOp*(1-hiddenOp)\n",
    "\n",
    "        self.who += numpy.dot(output_delta,numpy.transpose(hiddenOp))\n",
    "        self.wih += numpy.dot(hidden_error,numpy.transpose(inputs))\n",
    "\n",
    "        pass\n",
    "    \n",
    "    def query(self,inputList):\n",
    "        \n",
    "        inputs = numpy.array(inputList,ndmin=2).T\n",
    "        \n",
    "        hiddenin = numpy.dot(self.wih,inputs)\n",
    "        \n",
    "        hiddenop = self.activation(hiddenin)\n",
    "        \n",
    "        outputin = numpy.dot(self.who,hiddenop)\n",
    "        \n",
    "        output = self.activation(outputin)\n",
    "        \n",
    "        return output\n",
    "    \n",
    "        \n",
    "        "
   ]
  }
 ],
 "metadata": {
  "kernelspec": {
   "display_name": "Python 3",
   "language": "python",
   "name": "python3"
  },
  "language_info": {
   "codemirror_mode": {
    "name": "ipython",
    "version": 3
   },
   "file_extension": ".py",
   "mimetype": "text/x-python",
   "name": "python",
   "nbconvert_exporter": "python",
   "pygments_lexer": "ipython3",
   "version": "3.6.1"
  }
 },
 "nbformat": 4,
 "nbformat_minor": 2
}
